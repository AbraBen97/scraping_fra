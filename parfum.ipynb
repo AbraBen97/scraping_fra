{
 "cells": [
  {
   "cell_type": "code",
   "execution_count": 2,
   "metadata": {},
   "outputs": [],
   "source": [
    "import requests\n",
    "import time\n",
    "from bs4 import BeautifulSoup\n",
    "from selenium import webdriver \n",
    "from selenium.webdriver.common.keys import Keys\n",
    "from selenium.webdriver.common.action_chains import ActionChains\n",
    "from selenium.webdriver.common.by import By \n",
    "from selenium.webdriver.common.keys import Keys\n",
    "from selenium.webdriver.chrome.options import Options\n",
    "from selenium import webdriver\n",
    "import pandas as pd"
   ]
  },
  {
   "cell_type": "code",
   "execution_count": 46,
   "metadata": {},
   "outputs": [
    {
     "name": "stderr",
     "output_type": "stream",
     "text": [
      "The geckodriver version (0.31.0) detected in PATH at /snap/bin/geckodriver might not be compatible with the detected firefox version (103.0.1); currently, geckodriver 0.33.0 is recommended for firefox 103.*, so it is advised to delete the driver in PATH and retry\n"
     ]
    }
   ],
   "source": [
    "# Configuration du WebDriver\n",
    "driver = webdriver.Firefox()\n",
    "\n",
    "# Demander au driver d'appeler la page suivante\n",
    "driver.get(\"https://www.fragrantica.com/noses/\")\n",
    "\n",
    "\n",
    "#affichage plein ecran \n",
    "#driver.maximize_window()\n",
    "\n",
    "# Attendre que la page se charge\n",
    "#time.sleep(5)  "
   ]
  },
  {
   "cell_type": "code",
   "execution_count": 48,
   "metadata": {},
   "outputs": [
    {
     "data": {
      "text/plain": [
       "2234"
      ]
     },
     "execution_count": 48,
     "metadata": {},
     "output_type": "execute_result"
    }
   ],
   "source": [
    "producteurs = driver.find_elements(By.XPATH, '//div[contains(@class, \"cell small-12 medium-4\")]')\n",
    "len(producteurs)"
   ]
  },
  {
   "cell_type": "code",
   "execution_count": 49,
   "metadata": {},
   "outputs": [],
   "source": [
    "producteurs[0].click()"
   ]
  },
  {
   "cell_type": "code",
   "execution_count": 52,
   "metadata": {},
   "outputs": [
    {
     "data": {
      "text/plain": [
       "26"
      ]
     },
     "execution_count": 52,
     "metadata": {},
     "output_type": "execute_result"
    }
   ],
   "source": [
    "balises_span_link_span_dans_div_link_auto = driver.find_elements(By.XPATH, '//div[@class=\"flex-child-auto\"]//span[@class=\"link-span\"]')\n",
    "\n",
    "len(balises_span_link_span_dans_div_link_auto)"
   ]
  },
  {
   "cell_type": "code",
   "execution_count": 53,
   "metadata": {},
   "outputs": [],
   "source": [
    "balises_span_link_span_dans_div_link_auto[0].click()"
   ]
  },
  {
   "cell_type": "code",
   "execution_count": 55,
   "metadata": {},
   "outputs": [
    {
     "data": {
      "text/plain": [
       "'ATH x FM Smoulder Aaron Terence Hughes for women and men'"
      ]
     },
     "execution_count": 55,
     "metadata": {},
     "output_type": "execute_result"
    }
   ],
   "source": [
    "balise_h1 = driver.find_element(By.XPATH, '//h1[contains(@class, \"text-center\") and contains(@class, \"medium-text-left\")]')\n",
    "nom= balise_h1.text\n",
    "nom"
   ]
  },
  {
   "cell_type": "code",
   "execution_count": 56,
   "metadata": {},
   "outputs": [
    {
     "data": {
      "text/plain": [
       "'for women and men'"
      ]
     },
     "execution_count": 56,
     "metadata": {},
     "output_type": "execute_result"
    }
   ],
   "source": [
    "balise_small_dans_h1 = driver.find_element(By.XPATH, '//h1[contains(@class, \"text-center\") and contains(@class, \"medium-text-left\")]//small')\n",
    "genre = balise_small_dans_h1.text\n",
    "genre"
   ]
  },
  {
   "cell_type": "code",
   "execution_count": 57,
   "metadata": {},
   "outputs": [
    {
     "data": {
      "text/plain": [
       "10"
      ]
     },
     "execution_count": 57,
     "metadata": {},
     "output_type": "execute_result"
    }
   ],
   "source": [
    "carractere = driver.find_elements(By.XPATH, '//div[@class=\"accord-bar\"]')\n",
    "len(carractere)"
   ]
  },
  {
   "cell_type": "code",
   "execution_count": 60,
   "metadata": {},
   "outputs": [
    {
     "data": {
      "text/plain": [
       "' - woody - amber - warm spicy - fresh spicy - citrus - tobacco - powdery - balsamic - aromatic - patchouli'"
      ]
     },
     "execution_count": 60,
     "metadata": {},
     "output_type": "execute_result"
    }
   ],
   "source": [
    "composantes = \"\"\n",
    "for i in carractere:\n",
    "    composantes = composantes + \" - \" + i.text\n",
    "    \n",
    "composantes"
   ]
  },
  {
   "cell_type": "code",
   "execution_count": null,
   "metadata": {},
   "outputs": [],
   "source": []
  },
  {
   "cell_type": "code",
   "execution_count": null,
   "metadata": {},
   "outputs": [],
   "source": []
  },
  {
   "cell_type": "code",
   "execution_count": 64,
   "metadata": {},
   "outputs": [
    {
     "name": "stdout",
     "output_type": "stream",
     "text": [
      "<selenium.webdriver.remote.webelement.WebElement (session=\"92d410ef-e1a5-4137-968a-b595ff789eed\", element=\"ef335ba4-0728-4035-93dc-280383542cee\")>\n",
      "<selenium.webdriver.remote.webelement.WebElement (session=\"92d410ef-e1a5-4137-968a-b595ff789eed\", element=\"05e27907-8e43-4f18-b7dc-b32f1b7de8c3\")>\n",
      "<selenium.webdriver.remote.webelement.WebElement (session=\"92d410ef-e1a5-4137-968a-b595ff789eed\", element=\"9bb175da-8898-4295-97ef-096e417db384\")>\n",
      "<selenium.webdriver.remote.webelement.WebElement (session=\"92d410ef-e1a5-4137-968a-b595ff789eed\", element=\"05ec1be9-b17b-4eb3-9b95-d9f2633a585a\")>\n",
      "<selenium.webdriver.remote.webelement.WebElement (session=\"92d410ef-e1a5-4137-968a-b595ff789eed\", element=\"4156b03e-24db-4caa-af86-58a046c66574\")>\n",
      "<selenium.webdriver.remote.webelement.WebElement (session=\"92d410ef-e1a5-4137-968a-b595ff789eed\", element=\"710b75ac-9f06-41f8-a5e8-3ba8daab0ba3\")>\n",
      "<selenium.webdriver.remote.webelement.WebElement (session=\"92d410ef-e1a5-4137-968a-b595ff789eed\", element=\"5592987e-33b8-4572-b159-805b047a6135\")>\n",
      "<selenium.webdriver.remote.webelement.WebElement (session=\"92d410ef-e1a5-4137-968a-b595ff789eed\", element=\"db379caf-bf71-4d0a-b680-60028446b2fe\")>\n",
      "<selenium.webdriver.remote.webelement.WebElement (session=\"92d410ef-e1a5-4137-968a-b595ff789eed\", element=\"bbe9a9d1-b282-4e49-9e16-3e5285bd953e\")>\n",
      "<selenium.webdriver.remote.webelement.WebElement (session=\"92d410ef-e1a5-4137-968a-b595ff789eed\", element=\"5b5f301e-b1d3-4a9a-8646-e300dc1b5e8a\")>\n",
      "<selenium.webdriver.remote.webelement.WebElement (session=\"92d410ef-e1a5-4137-968a-b595ff789eed\", element=\"2fd16d34-f15c-4213-8adf-97e6e23cbbcf\")>\n",
      "<selenium.webdriver.remote.webelement.WebElement (session=\"92d410ef-e1a5-4137-968a-b595ff789eed\", element=\"c5f5e835-fc74-4bad-92c3-50ce9bf442fb\")>\n",
      "<selenium.webdriver.remote.webelement.WebElement (session=\"92d410ef-e1a5-4137-968a-b595ff789eed\", element=\"1bcca647-3b5a-4afa-842f-cfa894e5ceee\")>\n",
      "<selenium.webdriver.remote.webelement.WebElement (session=\"92d410ef-e1a5-4137-968a-b595ff789eed\", element=\"2a5564df-20e8-470a-8540-f7c2f043cbbf\")>\n",
      "<selenium.webdriver.remote.webelement.WebElement (session=\"92d410ef-e1a5-4137-968a-b595ff789eed\", element=\"a6c556a6-8f73-4c63-9a16-d327d8e9e506\")>\n",
      "<selenium.webdriver.remote.webelement.WebElement (session=\"92d410ef-e1a5-4137-968a-b595ff789eed\", element=\"377e7840-4b05-450f-af69-dca35af869c3\")>\n",
      "<selenium.webdriver.remote.webelement.WebElement (session=\"92d410ef-e1a5-4137-968a-b595ff789eed\", element=\"357ea5e1-906a-4d47-97b8-5cb81452ad8d\")>\n",
      "<selenium.webdriver.remote.webelement.WebElement (session=\"92d410ef-e1a5-4137-968a-b595ff789eed\", element=\"d2c24118-2e89-4e37-a1aa-602738cb9618\")>\n",
      "<selenium.webdriver.remote.webelement.WebElement (session=\"92d410ef-e1a5-4137-968a-b595ff789eed\", element=\"9f893c50-1c8f-4a0d-9b1a-42d05bc6aa24\")>\n",
      "<selenium.webdriver.remote.webelement.WebElement (session=\"92d410ef-e1a5-4137-968a-b595ff789eed\", element=\"5ba04197-fd54-48d8-bd93-cfa8039454a0\")>\n",
      "<selenium.webdriver.remote.webelement.WebElement (session=\"92d410ef-e1a5-4137-968a-b595ff789eed\", element=\"1b636ad9-9a90-493f-98bd-7257b88bcbf0\")>\n",
      "<selenium.webdriver.remote.webelement.WebElement (session=\"92d410ef-e1a5-4137-968a-b595ff789eed\", element=\"bb3feb24-3fe9-4d58-b7f9-86f2322f7783\")>\n",
      "<selenium.webdriver.remote.webelement.WebElement (session=\"92d410ef-e1a5-4137-968a-b595ff789eed\", element=\"7c6b3bf5-74da-4a48-9e6a-8750b96c35d9\")>\n",
      "<selenium.webdriver.remote.webelement.WebElement (session=\"92d410ef-e1a5-4137-968a-b595ff789eed\", element=\"1c3f0672-d08d-4d06-977f-ff924faf514e\")>\n",
      "<selenium.webdriver.remote.webelement.WebElement (session=\"92d410ef-e1a5-4137-968a-b595ff789eed\", element=\"c6f12888-8401-4645-8b94-29f9d2a63f30\")>\n",
      "<selenium.webdriver.remote.webelement.WebElement (session=\"92d410ef-e1a5-4137-968a-b595ff789eed\", element=\"89e8221a-575c-45b5-88a5-67a644ebc3bd\")>\n",
      "<selenium.webdriver.remote.webelement.WebElement (session=\"92d410ef-e1a5-4137-968a-b595ff789eed\", element=\"d9be6473-266f-4aeb-a13e-a1f7f2f5dd1d\")>\n",
      "<selenium.webdriver.remote.webelement.WebElement (session=\"92d410ef-e1a5-4137-968a-b595ff789eed\", element=\"a859041b-3260-4290-b41f-4f3bca42df8e\")>\n"
     ]
    }
   ],
   "source": [
    "# Recherche de toutes les balises <div> de classe \"voting-small-chart-size\"\n",
    "divs_voting_small_chart_size = driver.find_elements(By.XPATH, '//div[@class=\"voting-small-chart-size\"]')\n",
    "\n",
    "# Liste pour stocker toutes les balises <div> trouvées\n",
    "toutes_divs = []\n",
    "\n",
    "# Boucle pour récupérer toutes les balises <div> de chaque parent\n",
    "for div_parent in divs_voting_small_chart_size:\n",
    "    divs_enfants = div_parent.find_elements(By.XPATH, './/div')\n",
    "    toutes_divs.extend(divs_enfants)  # Ajoute toutes les balises <div> de l'élément parent à la liste\n",
    "\n",
    "# Imprime le résultat\n",
    "for div in toutes_divs:\n",
    "    print(div)\n",
    "     \n",
    "\n"
   ]
  },
  {
   "cell_type": "code",
   "execution_count": 65,
   "metadata": {},
   "outputs": [
    {
     "data": {
      "text/plain": [
       "28"
      ]
     },
     "execution_count": 65,
     "metadata": {},
     "output_type": "execute_result"
    }
   ],
   "source": [
    "len(toutes_divs)"
   ]
  },
  {
   "cell_type": "code",
   "execution_count": 67,
   "metadata": {},
   "outputs": [],
   "source": [
    "liste_b = [toutes_divs[i] for i in range(len(toutes_divs)) if i % 2 != 0]\n"
   ]
  },
  {
   "cell_type": "code",
   "execution_count": null,
   "metadata": {},
   "outputs": [],
   "source": []
  },
  {
   "cell_type": "code",
   "execution_count": 68,
   "metadata": {},
   "outputs": [
    {
     "name": "stdout",
     "output_type": "stream",
     "text": [
      "border-radius: 0.2rem; height: 0.3rem; background: rgb(159, 229, 132) none repeat scroll 0% 0%; width: 59.8131%; opacity: 1;\n",
      "border-radius: 0.2rem; height: 0.3rem; background: rgb(235, 118, 187) none repeat scroll 0% 0%; width: 12.1495%; opacity: 1;\n",
      "border-radius: 0.2rem; height: 0.3rem; background: rgb(68, 123, 163) none repeat scroll 0% 0%; width: 28.0374%; opacity: 1;\n",
      "border-radius: 0.2rem; height: 0.3rem; background: rgb(255, 118, 111) none repeat scroll 0% 0%; width: 100%; opacity: 1;\n",
      "border-radius: 0.2rem; height: 0.3rem; background: rgb(235, 118, 187) none repeat scroll 0% 0%; width: 33.3333%; opacity: 1;\n",
      "border-radius: 0.2rem; height: 0.3rem; background: rgb(252, 149, 138) none repeat scroll 0% 0%; width: 22.2222%; opacity: 1;\n",
      "border-radius: 0.2rem; height: 0.3rem; background: rgb(125, 148, 233) none repeat scroll 0% 0%; width: 11.1111%; opacity: 1;\n",
      "border-radius: 0.2rem; height: 0.3rem; background: rgb(68, 123, 163) none repeat scroll 0% 0%; width: 11.1111%; opacity: 1;\n",
      "border-radius: 0.2rem; height: 0.3rem; background: rgb(120, 214, 240) none repeat scroll 0% 0%; width: 100%; opacity: 1;\n",
      "border-radius: 0.2rem; height: 0.3rem; background: rgb(159, 229, 132) none repeat scroll 0% 0%; width: 55.5556%; opacity: 1;\n",
      "border-radius: 0.2rem; height: 0.3rem; background: rgb(252, 149, 138) none repeat scroll 0% 0%; width: 11.1111%; opacity: 1;\n",
      "border-radius: 0.2rem; height: 0.3rem; background: rgb(249, 190, 110) none repeat scroll 0% 0%; width: 92.5926%; opacity: 1;\n",
      "border-radius: 0.2rem; height: 0.3rem; background: rgb(252, 244, 135) none repeat scroll 0% 0%; width: 40.7407%; opacity: 1;\n",
      "border-radius: 0.2rem; height: 0.3rem; background: rgb(68, 123, 163) none repeat scroll 0% 0%; width: 92.5926%; opacity: 1;\n"
     ]
    }
   ],
   "source": [
    "for div in liste_b:\n",
    "    style_attribut = div.get_attribute(\"style\")\n",
    "    print(style_attribut)"
   ]
  },
  {
   "cell_type": "code",
   "execution_count": 72,
   "metadata": {},
   "outputs": [],
   "source": [
    "je_l_ai = (liste_b[0].get_attribute(\"style\").split(\";\"))[3].split(\":\")[1]\n",
    "je_l_avais =  (liste_b[1].get_attribute(\"style\").split(\";\"))[3].split(\":\")[1]\n",
    "je_le_veux =  (liste_b[2].get_attribute(\"style\").split(\";\"))[3].split(\":\")[1]\n",
    "j_adore =  (liste_b[3].get_attribute(\"style\").split(\";\"))[3].split(\":\")[1]\n",
    "j_aime =  (liste_b[4].get_attribute(\"style\").split(\";\"))[3].split(\":\")[1]\n",
    "bon =  (liste_b[5].get_attribute(\"style\").split(\";\"))[3].split(\":\")[1]\n",
    "aime_pas =  (liste_b[6].get_attribute(\"style\").split(\";\"))[3].split(\":\")[1]\n",
    "deteste =  (liste_b[7].get_attribute(\"style\").split(\";\"))[3].split(\":\")[1]\n",
    "hiver =  (liste_b[8].get_attribute(\"style\").split(\";\"))[3].split(\":\")[1]\n",
    "printemps =  (liste_b[9].get_attribute(\"style\").split(\";\"))[3].split(\":\")[1]\n",
    "ete =  (liste_b[10].get_attribute(\"style\").split(\";\"))[3].split(\":\")[1]\n",
    "autone =  (liste_b[11].get_attribute(\"style\").split(\";\"))[3].split(\":\")[1]\n",
    "jour =  (liste_b[12].get_attribute(\"style\").split(\";\"))[3].split(\":\")[1]\n",
    "nuit =  (liste_b[13].get_attribute(\"style\").split(\";\"))[3].split(\":\")[1]"
   ]
  },
  {
   "cell_type": "code",
   "execution_count": 74,
   "metadata": {},
   "outputs": [
    {
     "data": {
      "text/plain": [
       "' 92.5926%'"
      ]
     },
     "execution_count": 74,
     "metadata": {},
     "output_type": "execute_result"
    }
   ],
   "source": []
  },
  {
   "cell_type": "code",
   "execution_count": null,
   "metadata": {},
   "outputs": [],
   "source": []
  },
  {
   "cell_type": "code",
   "execution_count": null,
   "metadata": {},
   "outputs": [],
   "source": []
  },
  {
   "cell_type": "code",
   "execution_count": 3,
   "metadata": {},
   "outputs": [],
   "source": [
    "columns = [\n",
    "    'nom', 'genre', 'composantes', 'je_l_ai', \"je_l_avais\", \"je_le_veux\", \"j_adore\", \"j_aime\", \"bon\", \"aime_pas\", \"deteste\", \"hiver\",\"printemps\",\n",
    "    \"ete\", \"autone\", \"jour\", \"nuit\"\n",
    "]\n",
    "\n",
    "df = pd.DataFrame(columns=columns)"
   ]
  },
  {
   "cell_type": "code",
   "execution_count": 122,
   "metadata": {},
   "outputs": [
    {
     "data": {
      "text/html": [
       "<div>\n",
       "<style scoped>\n",
       "    .dataframe tbody tr th:only-of-type {\n",
       "        vertical-align: middle;\n",
       "    }\n",
       "\n",
       "    .dataframe tbody tr th {\n",
       "        vertical-align: top;\n",
       "    }\n",
       "\n",
       "    .dataframe thead th {\n",
       "        text-align: right;\n",
       "    }\n",
       "</style>\n",
       "<table border=\"1\" class=\"dataframe\">\n",
       "  <thead>\n",
       "    <tr style=\"text-align: right;\">\n",
       "      <th></th>\n",
       "      <th>nom</th>\n",
       "      <th>genre</th>\n",
       "      <th>composantes</th>\n",
       "      <th>je_l_ai</th>\n",
       "      <th>je_l_avais</th>\n",
       "      <th>je_le_veux</th>\n",
       "      <th>j_adore</th>\n",
       "      <th>j_aime</th>\n",
       "      <th>bon</th>\n",
       "      <th>aime_pas</th>\n",
       "      <th>deteste</th>\n",
       "      <th>hiver</th>\n",
       "      <th>printemps</th>\n",
       "      <th>ete</th>\n",
       "      <th>autone</th>\n",
       "      <th>jour</th>\n",
       "      <th>nuit</th>\n",
       "    </tr>\n",
       "  </thead>\n",
       "  <tbody>\n",
       "  </tbody>\n",
       "</table>\n",
       "</div>"
      ],
      "text/plain": [
       "Empty DataFrame\n",
       "Columns: [nom, genre, composantes, je_l_ai, je_l_avais, je_le_veux, j_adore, j_aime, bon, aime_pas, deteste, hiver, printemps, ete, autone, jour, nuit]\n",
       "Index: []"
      ]
     },
     "execution_count": 122,
     "metadata": {},
     "output_type": "execute_result"
    }
   ],
   "source": [
    "df.head()"
   ]
  },
  {
   "cell_type": "code",
   "execution_count": 104,
   "metadata": {},
   "outputs": [
    {
     "name": "stderr",
     "output_type": "stream",
     "text": [
      "The geckodriver version (0.31.0) detected in PATH at /snap/bin/geckodriver might not be compatible with the detected firefox version (103.0.1); currently, geckodriver 0.33.0 is recommended for firefox 103.*, so it is advised to delete the driver in PATH and retry\n"
     ]
    }
   ],
   "source": [
    "# Configuration du WebDriver\n",
    "driver = webdriver.Firefox()\n",
    "\n",
    "# Demander au driver d'appeler la page suivante\n",
    "driver.get(\"https://www.fragrantica.com/noses/\")\n"
   ]
  },
  {
   "cell_type": "code",
   "execution_count": null,
   "metadata": {},
   "outputs": [],
   "source": []
  },
  {
   "cell_type": "code",
   "execution_count": 105,
   "metadata": {},
   "outputs": [
    {
     "ename": "NoSuchElementException",
     "evalue": "Message: Unable to locate element: //h1[contains(@class, \"text-center\") and contains(@class, \"medium-text-left\")]; For documentation on this error, please visit: https://www.selenium.dev/documentation/webdriver/troubleshooting/errors#no-such-element-exception\nStacktrace:\nWebDriverError@chrome://remote/content/shared/webdriver/Errors.jsm:188:5\nNoSuchElementError@chrome://remote/content/shared/webdriver/Errors.jsm:400:5\nelement.find/</<@chrome://remote/content/marionette/element.js:292:16\n",
     "output_type": "error",
     "traceback": [
      "\u001b[0;31m---------------------------------------------------------------------------\u001b[0m",
      "\u001b[0;31mNoSuchElementException\u001b[0m                    Traceback (most recent call last)",
      "Cell \u001b[0;32mIn[105], line 20\u001b[0m\n\u001b[1;32m     16\u001b[0m parfumns[i]\u001b[38;5;241m.\u001b[39mclick()\n\u001b[1;32m     18\u001b[0m time\u001b[38;5;241m.\u001b[39msleep(\u001b[38;5;241m5\u001b[39m)\n\u001b[0;32m---> 20\u001b[0m balise_h1 \u001b[38;5;241m=\u001b[39m \u001b[43mdriver\u001b[49m\u001b[38;5;241;43m.\u001b[39;49m\u001b[43mfind_element\u001b[49m\u001b[43m(\u001b[49m\u001b[43mBy\u001b[49m\u001b[38;5;241;43m.\u001b[39;49m\u001b[43mXPATH\u001b[49m\u001b[43m,\u001b[49m\u001b[43m \u001b[49m\u001b[38;5;124;43m'\u001b[39;49m\u001b[38;5;124;43m//h1[contains(@class, \u001b[39;49m\u001b[38;5;124;43m\"\u001b[39;49m\u001b[38;5;124;43mtext-center\u001b[39;49m\u001b[38;5;124;43m\"\u001b[39;49m\u001b[38;5;124;43m) and contains(@class, \u001b[39;49m\u001b[38;5;124;43m\"\u001b[39;49m\u001b[38;5;124;43mmedium-text-left\u001b[39;49m\u001b[38;5;124;43m\"\u001b[39;49m\u001b[38;5;124;43m)]\u001b[39;49m\u001b[38;5;124;43m'\u001b[39;49m\u001b[43m)\u001b[49m\n\u001b[1;32m     21\u001b[0m nom\u001b[38;5;241m=\u001b[39m balise_h1\u001b[38;5;241m.\u001b[39mtext\n\u001b[1;32m     24\u001b[0m balise_small_dans_h1 \u001b[38;5;241m=\u001b[39m driver\u001b[38;5;241m.\u001b[39mfind_element(By\u001b[38;5;241m.\u001b[39mXPATH, \u001b[38;5;124m'\u001b[39m\u001b[38;5;124m//h1[contains(@class, \u001b[39m\u001b[38;5;124m\"\u001b[39m\u001b[38;5;124mtext-center\u001b[39m\u001b[38;5;124m\"\u001b[39m\u001b[38;5;124m) and contains(@class, \u001b[39m\u001b[38;5;124m\"\u001b[39m\u001b[38;5;124mmedium-text-left\u001b[39m\u001b[38;5;124m\"\u001b[39m\u001b[38;5;124m)]//small\u001b[39m\u001b[38;5;124m'\u001b[39m)\n",
      "File \u001b[0;32m~/Bureau/projet_stage/scrapping/env/lib/python3.10/site-packages/selenium/webdriver/remote/webdriver.py:741\u001b[0m, in \u001b[0;36mWebDriver.find_element\u001b[0;34m(self, by, value)\u001b[0m\n\u001b[1;32m    738\u001b[0m     by \u001b[38;5;241m=\u001b[39m By\u001b[38;5;241m.\u001b[39mCSS_SELECTOR\n\u001b[1;32m    739\u001b[0m     value \u001b[38;5;241m=\u001b[39m \u001b[38;5;124mf\u001b[39m\u001b[38;5;124m'\u001b[39m\u001b[38;5;124m[name=\u001b[39m\u001b[38;5;124m\"\u001b[39m\u001b[38;5;132;01m{\u001b[39;00mvalue\u001b[38;5;132;01m}\u001b[39;00m\u001b[38;5;124m\"\u001b[39m\u001b[38;5;124m]\u001b[39m\u001b[38;5;124m'\u001b[39m\n\u001b[0;32m--> 741\u001b[0m \u001b[38;5;28;01mreturn\u001b[39;00m \u001b[38;5;28;43mself\u001b[39;49m\u001b[38;5;241;43m.\u001b[39;49m\u001b[43mexecute\u001b[49m\u001b[43m(\u001b[49m\u001b[43mCommand\u001b[49m\u001b[38;5;241;43m.\u001b[39;49m\u001b[43mFIND_ELEMENT\u001b[49m\u001b[43m,\u001b[49m\u001b[43m \u001b[49m\u001b[43m{\u001b[49m\u001b[38;5;124;43m\"\u001b[39;49m\u001b[38;5;124;43musing\u001b[39;49m\u001b[38;5;124;43m\"\u001b[39;49m\u001b[43m:\u001b[49m\u001b[43m \u001b[49m\u001b[43mby\u001b[49m\u001b[43m,\u001b[49m\u001b[43m \u001b[49m\u001b[38;5;124;43m\"\u001b[39;49m\u001b[38;5;124;43mvalue\u001b[39;49m\u001b[38;5;124;43m\"\u001b[39;49m\u001b[43m:\u001b[49m\u001b[43m \u001b[49m\u001b[43mvalue\u001b[49m\u001b[43m}\u001b[49m\u001b[43m)\u001b[49m[\u001b[38;5;124m\"\u001b[39m\u001b[38;5;124mvalue\u001b[39m\u001b[38;5;124m\"\u001b[39m]\n",
      "File \u001b[0;32m~/Bureau/projet_stage/scrapping/env/lib/python3.10/site-packages/selenium/webdriver/remote/webdriver.py:347\u001b[0m, in \u001b[0;36mWebDriver.execute\u001b[0;34m(self, driver_command, params)\u001b[0m\n\u001b[1;32m    345\u001b[0m response \u001b[38;5;241m=\u001b[39m \u001b[38;5;28mself\u001b[39m\u001b[38;5;241m.\u001b[39mcommand_executor\u001b[38;5;241m.\u001b[39mexecute(driver_command, params)\n\u001b[1;32m    346\u001b[0m \u001b[38;5;28;01mif\u001b[39;00m response:\n\u001b[0;32m--> 347\u001b[0m     \u001b[38;5;28;43mself\u001b[39;49m\u001b[38;5;241;43m.\u001b[39;49m\u001b[43merror_handler\u001b[49m\u001b[38;5;241;43m.\u001b[39;49m\u001b[43mcheck_response\u001b[49m\u001b[43m(\u001b[49m\u001b[43mresponse\u001b[49m\u001b[43m)\u001b[49m\n\u001b[1;32m    348\u001b[0m     response[\u001b[38;5;124m\"\u001b[39m\u001b[38;5;124mvalue\u001b[39m\u001b[38;5;124m\"\u001b[39m] \u001b[38;5;241m=\u001b[39m \u001b[38;5;28mself\u001b[39m\u001b[38;5;241m.\u001b[39m_unwrap_value(response\u001b[38;5;241m.\u001b[39mget(\u001b[38;5;124m\"\u001b[39m\u001b[38;5;124mvalue\u001b[39m\u001b[38;5;124m\"\u001b[39m, \u001b[38;5;28;01mNone\u001b[39;00m))\n\u001b[1;32m    349\u001b[0m     \u001b[38;5;28;01mreturn\u001b[39;00m response\n",
      "File \u001b[0;32m~/Bureau/projet_stage/scrapping/env/lib/python3.10/site-packages/selenium/webdriver/remote/errorhandler.py:229\u001b[0m, in \u001b[0;36mErrorHandler.check_response\u001b[0;34m(self, response)\u001b[0m\n\u001b[1;32m    227\u001b[0m         alert_text \u001b[38;5;241m=\u001b[39m value[\u001b[38;5;124m\"\u001b[39m\u001b[38;5;124malert\u001b[39m\u001b[38;5;124m\"\u001b[39m]\u001b[38;5;241m.\u001b[39mget(\u001b[38;5;124m\"\u001b[39m\u001b[38;5;124mtext\u001b[39m\u001b[38;5;124m\"\u001b[39m)\n\u001b[1;32m    228\u001b[0m     \u001b[38;5;28;01mraise\u001b[39;00m exception_class(message, screen, stacktrace, alert_text)  \u001b[38;5;66;03m# type: ignore[call-arg]  # mypy is not smart enough here\u001b[39;00m\n\u001b[0;32m--> 229\u001b[0m \u001b[38;5;28;01mraise\u001b[39;00m exception_class(message, screen, stacktrace)\n",
      "\u001b[0;31mNoSuchElementException\u001b[0m: Message: Unable to locate element: //h1[contains(@class, \"text-center\") and contains(@class, \"medium-text-left\")]; For documentation on this error, please visit: https://www.selenium.dev/documentation/webdriver/troubleshooting/errors#no-such-element-exception\nStacktrace:\nWebDriverError@chrome://remote/content/shared/webdriver/Errors.jsm:188:5\nNoSuchElementError@chrome://remote/content/shared/webdriver/Errors.jsm:400:5\nelement.find/</<@chrome://remote/content/marionette/element.js:292:16\n"
     ]
    }
   ],
   "source": [
    "producteurs = driver.find_elements(By.XPATH, '//div[contains(@class, \"cell small-12 medium-4\")]')\n",
    "for producteur in producteurs:\n",
    "    \n",
    "    producteurs = driver.find_elements(By.XPATH, '//div[contains(@class, \"cell small-12 medium-4\")]')\n",
    "    producteur.click()\n",
    "    \n",
    "    time.sleep(5)\n",
    "    parfumns = driver.find_elements(By.XPATH, '//div[@class=\"flex-child-auto\"]//span[@class=\"link-span\"]')\n",
    "    long = len(parfumns)\n",
    "    \n",
    "    for i in range(long):\n",
    "        \n",
    "        time.sleep(5)\n",
    "        \n",
    "        parfumns = driver.find_elements(By.XPATH, '//div[@class=\"flex-child-auto\"]//span[@class=\"link-span\"]')\n",
    "        parfumns[i].click()\n",
    "        \n",
    "        time.sleep(5)\n",
    "        \n",
    "        balise_h1 = driver.find_element(By.XPATH, '//h1[contains(@class, \"text-center\") and contains(@class, \"medium-text-left\")]')\n",
    "        nom= balise_h1.text\n",
    "        \n",
    "        \n",
    "        balise_small_dans_h1 = driver.find_element(By.XPATH, '//h1[contains(@class, \"text-center\") and contains(@class, \"medium-text-left\")]//small')\n",
    "        genre = balise_small_dans_h1.text\n",
    "        \n",
    "        \n",
    "        carractere = driver.find_elements(By.XPATH, '//div[@class=\"accord-bar\"]')\n",
    "        composantes = \"\"\n",
    "        for i in carractere:\n",
    "            composantes = composantes + \" - \" + i.text\n",
    "        \n",
    "        \n",
    "        divs_voting_small_chart_size = driver.find_elements(By.XPATH, '//div[@class=\"voting-small-chart-size\"]')\n",
    "\n",
    "        # Liste pour stocker toutes les balises <div> trouvées\n",
    "        toutes_divs = []\n",
    "\n",
    "        # Boucle pour récupérer toutes les balises <div> de chaque parent\n",
    "        for div_parent in divs_voting_small_chart_size:\n",
    "            divs_enfants = div_parent.find_elements(By.XPATH, './/div')\n",
    "            toutes_divs.extend(divs_enfants)\n",
    "            \n",
    "        liste_b = [toutes_divs[i] for i in range(len(toutes_divs)) if i % 2 != 0]\n",
    "        \n",
    "        je_l_ai = (liste_b[0].get_attribute(\"style\").split(\";\"))[3].split(\":\")[1]\n",
    "        je_l_avais =  (liste_b[1].get_attribute(\"style\").split(\";\"))[3].split(\":\")[1]\n",
    "        je_le_veux =  (liste_b[2].get_attribute(\"style\").split(\";\"))[3].split(\":\")[1]\n",
    "        j_adore =  (liste_b[3].get_attribute(\"style\").split(\";\"))[3].split(\":\")[1]\n",
    "        j_aime =  (liste_b[4].get_attribute(\"style\").split(\";\"))[3].split(\":\")[1]\n",
    "        bon =  (liste_b[5].get_attribute(\"style\").split(\";\"))[3].split(\":\")[1]\n",
    "        aime_pas =  (liste_b[6].get_attribute(\"style\").split(\";\"))[3].split(\":\")[1]\n",
    "        deteste =  (liste_b[7].get_attribute(\"style\").split(\";\"))[3].split(\":\")[1]\n",
    "        hiver =  (liste_b[8].get_attribute(\"style\").split(\";\"))[3].split(\":\")[1]\n",
    "        printemps =  (liste_b[9].get_attribute(\"style\").split(\";\"))[3].split(\":\")[1]\n",
    "        ete =  (liste_b[10].get_attribute(\"style\").split(\";\"))[3].split(\":\")[1]\n",
    "        autone =  (liste_b[11].get_attribute(\"style\").split(\";\"))[3].split(\":\")[1]\n",
    "        jour =  (liste_b[12].get_attribute(\"style\").split(\";\"))[3].split(\":\")[1]\n",
    "        nuit =  (liste_b[13].get_attribute(\"style\").split(\";\"))[3].split(\":\")[1]\n",
    "        \n",
    "        \n",
    "        \n",
    "        new_dat = {'nom':nom, 'genre':genre, 'composantes':composantes, 'je_l_ai': je_l_ai, \"je_l_avais\": je_l_avais, \"je_le_veux\":je_le_veux, \"j_adore\":j_adore, \n",
    "                   \"j_aime\": j_aime, \"bon\": bon, \"aime_pas\": aime_pas, \"deteste\": deteste, \"hiver\": hiver,\"printemps\": printemps,\n",
    "                    \"ete\": ete, \"autone\": autone, \"jour\" :jour, \"nuit\":nuit }\n",
    "    \n",
    "    \n",
    "        df.loc[len(df)] = new_dat\n",
    "        \n",
    "        df.to_csv(\"data.csv\", index=False)\n",
    "        \n",
    "        driver.back()\n",
    "        time.sleep(3)\n",
    "        \n",
    "        \n",
    "    driver.back()  \n",
    "    time.sleep(3)  \n",
    "\n",
    "    \n",
    "    "
   ]
  },
  {
   "cell_type": "code",
   "execution_count": null,
   "metadata": {},
   "outputs": [],
   "source": []
  },
  {
   "cell_type": "code",
   "execution_count": 4,
   "metadata": {},
   "outputs": [
    {
     "name": "stderr",
     "output_type": "stream",
     "text": [
      "The geckodriver version (0.31.0) detected in PATH at /snap/bin/geckodriver might not be compatible with the detected firefox version (103.0.1); currently, geckodriver 0.33.0 is recommended for firefox 103.*, so it is advised to delete the driver in PATH and retry\n"
     ]
    }
   ],
   "source": [
    "# Configuration du WebDriver\n",
    "driver = webdriver.Firefox()\n",
    "\n",
    "# Demander au driver d'appeler la page suivante\n",
    "driver.get(\"https://www.fragrantica.com/noses/\")"
   ]
  },
  {
   "cell_type": "code",
   "execution_count": 5,
   "metadata": {},
   "outputs": [],
   "source": [
    "producteurs = driver.find_elements(By.XPATH, '//div[contains(@class, \"cell small-12 medium-4\")]')\n",
    "producteurs[0].click()\n",
    "parfumns = driver.find_elements(By.XPATH, '//div[@class=\"flex-child-auto\"]//span[@class=\"link-span\"]')\n",
    "long = len(parfumns)\n",
    "    "
   ]
  },
  {
   "cell_type": "code",
   "execution_count": 6,
   "metadata": {},
   "outputs": [
    {
     "data": {
      "text/plain": [
       "26"
      ]
     },
     "execution_count": 6,
     "metadata": {},
     "output_type": "execute_result"
    }
   ],
   "source": [
    "len(parfumns)"
   ]
  },
  {
   "cell_type": "code",
   "execution_count": 7,
   "metadata": {},
   "outputs": [
    {
     "ename": "StaleElementReferenceException",
     "evalue": "Message: The element reference of [object String] \"{\\\"element-6066-11e4-a52e-4f735466cecf\\\":\\\"b205da23-9eed-4a79-9b0f-5cbd6ab38667\\\"}\" is stale; either the element is no longer attached to the DOM, it is not in the current frame context, or the document has been refreshed; For documentation on this error, please visit: https://www.selenium.dev/documentation/webdriver/troubleshooting/errors#stale-element-reference-exception\nStacktrace:\nWebDriverError@chrome://remote/content/shared/webdriver/Errors.jsm:188:5\nStaleElementReferenceError@chrome://remote/content/shared/webdriver/Errors.jsm:469:5\nelement.resolveElement@chrome://remote/content/marionette/element.js:691:11\nevaluate.fromJSON@chrome://remote/content/marionette/evaluate.js:262:31\nevaluate.fromJSON@chrome://remote/content/marionette/evaluate.js:270:29\nreceiveMessage@chrome://remote/content/marionette/actors/MarionetteCommandsChild.jsm:81:34\n",
     "output_type": "error",
     "traceback": [
      "\u001b[0;31m---------------------------------------------------------------------------\u001b[0m",
      "\u001b[0;31mStaleElementReferenceException\u001b[0m            Traceback (most recent call last)",
      "Cell \u001b[0;32mIn[7], line 9\u001b[0m\n\u001b[1;32m      1\u001b[0m \u001b[38;5;28;01mfor\u001b[39;00m parfumn \u001b[38;5;129;01min\u001b[39;00m parfumns:\n\u001b[1;32m      2\u001b[0m     \n\u001b[1;32m      3\u001b[0m \n\u001b[1;32m      4\u001b[0m     \u001b[38;5;66;03m#time.sleep(3)\u001b[39;00m\n\u001b[1;32m      5\u001b[0m     \u001b[38;5;66;03m#parfumns = driver.find_elements(By.XPATH, '//div[@class=\"flex-child-auto\"]//span[@class=\"link-span\"]')\u001b[39;00m\n\u001b[1;32m      7\u001b[0m     time\u001b[38;5;241m.\u001b[39msleep(\u001b[38;5;241m2\u001b[39m)\n\u001b[0;32m----> 9\u001b[0m     \u001b[43mparfumn\u001b[49m\u001b[38;5;241;43m.\u001b[39;49m\u001b[43mclick\u001b[49m\u001b[43m(\u001b[49m\u001b[43m)\u001b[49m\n\u001b[1;32m     11\u001b[0m     time\u001b[38;5;241m.\u001b[39msleep(\u001b[38;5;241m3\u001b[39m)\n\u001b[1;32m     13\u001b[0m     balise_h1 \u001b[38;5;241m=\u001b[39m driver\u001b[38;5;241m.\u001b[39mfind_element(By\u001b[38;5;241m.\u001b[39mXPATH, \u001b[38;5;124m'\u001b[39m\u001b[38;5;124m//h1[contains(@class, \u001b[39m\u001b[38;5;124m\"\u001b[39m\u001b[38;5;124mtext-center\u001b[39m\u001b[38;5;124m\"\u001b[39m\u001b[38;5;124m) and contains(@class, \u001b[39m\u001b[38;5;124m\"\u001b[39m\u001b[38;5;124mmedium-text-left\u001b[39m\u001b[38;5;124m\"\u001b[39m\u001b[38;5;124m)]\u001b[39m\u001b[38;5;124m'\u001b[39m)\n",
      "File \u001b[0;32m~/Bureau/projet_stage/scrapping/env/lib/python3.10/site-packages/selenium/webdriver/remote/webelement.py:94\u001b[0m, in \u001b[0;36mWebElement.click\u001b[0;34m(self)\u001b[0m\n\u001b[1;32m     92\u001b[0m \u001b[38;5;28;01mdef\u001b[39;00m \u001b[38;5;21mclick\u001b[39m(\u001b[38;5;28mself\u001b[39m) \u001b[38;5;241m-\u001b[39m\u001b[38;5;241m>\u001b[39m \u001b[38;5;28;01mNone\u001b[39;00m:\n\u001b[1;32m     93\u001b[0m \u001b[38;5;250m    \u001b[39m\u001b[38;5;124;03m\"\"\"Clicks the element.\"\"\"\u001b[39;00m\n\u001b[0;32m---> 94\u001b[0m     \u001b[38;5;28;43mself\u001b[39;49m\u001b[38;5;241;43m.\u001b[39;49m\u001b[43m_execute\u001b[49m\u001b[43m(\u001b[49m\u001b[43mCommand\u001b[49m\u001b[38;5;241;43m.\u001b[39;49m\u001b[43mCLICK_ELEMENT\u001b[49m\u001b[43m)\u001b[49m\n",
      "File \u001b[0;32m~/Bureau/projet_stage/scrapping/env/lib/python3.10/site-packages/selenium/webdriver/remote/webelement.py:395\u001b[0m, in \u001b[0;36mWebElement._execute\u001b[0;34m(self, command, params)\u001b[0m\n\u001b[1;32m    393\u001b[0m     params \u001b[38;5;241m=\u001b[39m {}\n\u001b[1;32m    394\u001b[0m params[\u001b[38;5;124m\"\u001b[39m\u001b[38;5;124mid\u001b[39m\u001b[38;5;124m\"\u001b[39m] \u001b[38;5;241m=\u001b[39m \u001b[38;5;28mself\u001b[39m\u001b[38;5;241m.\u001b[39m_id\n\u001b[0;32m--> 395\u001b[0m \u001b[38;5;28;01mreturn\u001b[39;00m \u001b[38;5;28;43mself\u001b[39;49m\u001b[38;5;241;43m.\u001b[39;49m\u001b[43m_parent\u001b[49m\u001b[38;5;241;43m.\u001b[39;49m\u001b[43mexecute\u001b[49m\u001b[43m(\u001b[49m\u001b[43mcommand\u001b[49m\u001b[43m,\u001b[49m\u001b[43m \u001b[49m\u001b[43mparams\u001b[49m\u001b[43m)\u001b[49m\n",
      "File \u001b[0;32m~/Bureau/projet_stage/scrapping/env/lib/python3.10/site-packages/selenium/webdriver/remote/webdriver.py:347\u001b[0m, in \u001b[0;36mWebDriver.execute\u001b[0;34m(self, driver_command, params)\u001b[0m\n\u001b[1;32m    345\u001b[0m response \u001b[38;5;241m=\u001b[39m \u001b[38;5;28mself\u001b[39m\u001b[38;5;241m.\u001b[39mcommand_executor\u001b[38;5;241m.\u001b[39mexecute(driver_command, params)\n\u001b[1;32m    346\u001b[0m \u001b[38;5;28;01mif\u001b[39;00m response:\n\u001b[0;32m--> 347\u001b[0m     \u001b[38;5;28;43mself\u001b[39;49m\u001b[38;5;241;43m.\u001b[39;49m\u001b[43merror_handler\u001b[49m\u001b[38;5;241;43m.\u001b[39;49m\u001b[43mcheck_response\u001b[49m\u001b[43m(\u001b[49m\u001b[43mresponse\u001b[49m\u001b[43m)\u001b[49m\n\u001b[1;32m    348\u001b[0m     response[\u001b[38;5;124m\"\u001b[39m\u001b[38;5;124mvalue\u001b[39m\u001b[38;5;124m\"\u001b[39m] \u001b[38;5;241m=\u001b[39m \u001b[38;5;28mself\u001b[39m\u001b[38;5;241m.\u001b[39m_unwrap_value(response\u001b[38;5;241m.\u001b[39mget(\u001b[38;5;124m\"\u001b[39m\u001b[38;5;124mvalue\u001b[39m\u001b[38;5;124m\"\u001b[39m, \u001b[38;5;28;01mNone\u001b[39;00m))\n\u001b[1;32m    349\u001b[0m     \u001b[38;5;28;01mreturn\u001b[39;00m response\n",
      "File \u001b[0;32m~/Bureau/projet_stage/scrapping/env/lib/python3.10/site-packages/selenium/webdriver/remote/errorhandler.py:229\u001b[0m, in \u001b[0;36mErrorHandler.check_response\u001b[0;34m(self, response)\u001b[0m\n\u001b[1;32m    227\u001b[0m         alert_text \u001b[38;5;241m=\u001b[39m value[\u001b[38;5;124m\"\u001b[39m\u001b[38;5;124malert\u001b[39m\u001b[38;5;124m\"\u001b[39m]\u001b[38;5;241m.\u001b[39mget(\u001b[38;5;124m\"\u001b[39m\u001b[38;5;124mtext\u001b[39m\u001b[38;5;124m\"\u001b[39m)\n\u001b[1;32m    228\u001b[0m     \u001b[38;5;28;01mraise\u001b[39;00m exception_class(message, screen, stacktrace, alert_text)  \u001b[38;5;66;03m# type: ignore[call-arg]  # mypy is not smart enough here\u001b[39;00m\n\u001b[0;32m--> 229\u001b[0m \u001b[38;5;28;01mraise\u001b[39;00m exception_class(message, screen, stacktrace)\n",
      "\u001b[0;31mStaleElementReferenceException\u001b[0m: Message: The element reference of [object String] \"{\\\"element-6066-11e4-a52e-4f735466cecf\\\":\\\"b205da23-9eed-4a79-9b0f-5cbd6ab38667\\\"}\" is stale; either the element is no longer attached to the DOM, it is not in the current frame context, or the document has been refreshed; For documentation on this error, please visit: https://www.selenium.dev/documentation/webdriver/troubleshooting/errors#stale-element-reference-exception\nStacktrace:\nWebDriverError@chrome://remote/content/shared/webdriver/Errors.jsm:188:5\nStaleElementReferenceError@chrome://remote/content/shared/webdriver/Errors.jsm:469:5\nelement.resolveElement@chrome://remote/content/marionette/element.js:691:11\nevaluate.fromJSON@chrome://remote/content/marionette/evaluate.js:262:31\nevaluate.fromJSON@chrome://remote/content/marionette/evaluate.js:270:29\nreceiveMessage@chrome://remote/content/marionette/actors/MarionetteCommandsChild.jsm:81:34\n"
     ]
    }
   ],
   "source": [
    "\n",
    "for parfumn in parfumns:\n",
    "    \n",
    "\n",
    "    #time.sleep(3)\n",
    "    #parfumns = driver.find_elements(By.XPATH, '//div[@class=\"flex-child-auto\"]//span[@class=\"link-span\"]')\n",
    "    \n",
    "    time.sleep(2)\n",
    "    \n",
    "    parfumn.click()\n",
    "        \n",
    "    time.sleep(3)\n",
    "        \n",
    "    balise_h1 = driver.find_element(By.XPATH, '//h1[contains(@class, \"text-center\") and contains(@class, \"medium-text-left\")]')\n",
    "    nom= balise_h1.text\n",
    "        \n",
    "        \n",
    "    balise_small_dans_h1 = driver.find_element(By.XPATH, '//h1[contains(@class, \"text-center\") and contains(@class, \"medium-text-left\")]//small')\n",
    "    genre = balise_small_dans_h1.text\n",
    "        \n",
    "        \n",
    "    carractere = driver.find_elements(By.XPATH, '//div[@class=\"accord-bar\"]')\n",
    "    composantes = \"\"\n",
    "    for i in carractere:\n",
    "        composantes = composantes + \" - \" + i.text\n",
    "        \n",
    "        \n",
    "    divs_voting_small_chart_size = driver.find_elements(By.XPATH, '//div[@class=\"voting-small-chart-size\"]')\n",
    "\n",
    "        # Liste pour stocker toutes les balises <div> trouvées\n",
    "    toutes_divs = []\n",
    "\n",
    "        # Boucle pour récupérer toutes les balises <div> de chaque parent\n",
    "    for div_parent in divs_voting_small_chart_size:\n",
    "        divs_enfants = div_parent.find_elements(By.XPATH, './/div')\n",
    "        toutes_divs.extend(divs_enfants)\n",
    "            \n",
    "    liste_b = [toutes_divs[i] for i in range(len(toutes_divs)) if i % 2 != 0]\n",
    "        \n",
    "    je_l_ai = (liste_b[0].get_attribute(\"style\").split(\";\"))[3].split(\":\")[1]\n",
    "    je_l_avais =  (liste_b[1].get_attribute(\"style\").split(\";\"))[3].split(\":\")[1]\n",
    "    je_le_veux =  (liste_b[2].get_attribute(\"style\").split(\";\"))[3].split(\":\")[1]\n",
    "    j_adore =  (liste_b[3].get_attribute(\"style\").split(\";\"))[3].split(\":\")[1]\n",
    "    j_aime =  (liste_b[4].get_attribute(\"style\").split(\";\"))[3].split(\":\")[1]\n",
    "    bon =  (liste_b[5].get_attribute(\"style\").split(\";\"))[3].split(\":\")[1]\n",
    "    aime_pas =  (liste_b[6].get_attribute(\"style\").split(\";\"))[3].split(\":\")[1]\n",
    "    deteste =  (liste_b[7].get_attribute(\"style\").split(\";\"))[3].split(\":\")[1]\n",
    "    hiver =  (liste_b[8].get_attribute(\"style\").split(\";\"))[3].split(\":\")[1]\n",
    "    printemps =  (liste_b[9].get_attribute(\"style\").split(\";\"))[3].split(\":\")[1]\n",
    "    ete =  (liste_b[10].get_attribute(\"style\").split(\";\"))[3].split(\":\")[1]\n",
    "    autone =  (liste_b[11].get_attribute(\"style\").split(\";\"))[3].split(\":\")[1]\n",
    "    jour =  (liste_b[12].get_attribute(\"style\").split(\";\"))[3].split(\":\")[1]\n",
    "    nuit =  (liste_b[13].get_attribute(\"style\").split(\";\"))[3].split(\":\")[1]\n",
    "        \n",
    "        \n",
    "        \n",
    "    new_dat = {'nom':nom, 'genre':genre, 'composantes':composantes, 'je_l_ai': je_l_ai, \"je_l_avais\": je_l_avais, \"je_le_veux\":je_le_veux, \"j_adore\":j_adore, \n",
    "                   \"j_aime\": j_aime, \"bon\": bon, \"aime_pas\": aime_pas, \"deteste\": deteste, \"hiver\": hiver,\"printemps\": printemps,\n",
    "                    \"ete\": ete, \"autone\": autone, \"jour\" :jour, \"nuit\":nuit }\n",
    "    \n",
    "    \n",
    "    df.loc[len(df)] = new_dat\n",
    "        \n",
    "    df.to_csv(\"data.csv\", index=False)\n",
    "        \n",
    "    driver.back()\n",
    "    parfumns = driver.find_elements(By.XPATH, '//div[@class=\"flex-child-auto\"]//span[@class=\"link-span\"]')\n",
    "    \n",
    "    \n",
    "\n",
    "\n",
    "    \n",
    "    "
   ]
  },
  {
   "cell_type": "code",
   "execution_count": 108,
   "metadata": {},
   "outputs": [
    {
     "name": "stdout",
     "output_type": "stream",
     "text": [
      "3\n",
      "4\n"
     ]
    }
   ],
   "source": [
    "for i in range(3,5):\n",
    "    print(i)"
   ]
  },
  {
   "cell_type": "code",
   "execution_count": 19,
   "metadata": {},
   "outputs": [
    {
     "ename": "StaleElementReferenceException",
     "evalue": "Message: The element reference of [object String] \"{\\\"element-6066-11e4-a52e-4f735466cecf\\\":\\\"d7d5fd85-0557-4ab2-a591-b74eb4790652\\\"}\" is stale; either the element is no longer attached to the DOM, it is not in the current frame context, or the document has been refreshed; For documentation on this error, please visit: https://www.selenium.dev/documentation/webdriver/troubleshooting/errors#stale-element-reference-exception\nStacktrace:\nWebDriverError@chrome://remote/content/shared/webdriver/Errors.jsm:188:5\nStaleElementReferenceError@chrome://remote/content/shared/webdriver/Errors.jsm:469:5\nelement.resolveElement@chrome://remote/content/marionette/element.js:691:11\nevaluate.fromJSON@chrome://remote/content/marionette/evaluate.js:262:31\nevaluate.fromJSON@chrome://remote/content/marionette/evaluate.js:270:29\nreceiveMessage@chrome://remote/content/marionette/actors/MarionetteCommandsChild.jsm:81:34\n",
     "output_type": "error",
     "traceback": [
      "\u001b[0;31m---------------------------------------------------------------------------\u001b[0m",
      "\u001b[0;31mStaleElementReferenceException\u001b[0m            Traceback (most recent call last)",
      "Cell \u001b[0;32mIn[19], line 9\u001b[0m\n\u001b[1;32m      6\u001b[0m time\u001b[38;5;241m.\u001b[39msleep(\u001b[38;5;241m2\u001b[39m)\n\u001b[1;32m      8\u001b[0m \u001b[38;5;28;01mtry\u001b[39;00m:\n\u001b[0;32m----> 9\u001b[0m     \u001b[43mparfumn\u001b[49m\u001b[38;5;241;43m.\u001b[39;49m\u001b[43mclick\u001b[49m\u001b[43m(\u001b[49m\u001b[43m)\u001b[49m\n\u001b[1;32m     10\u001b[0m \u001b[38;5;28;01mexcept\u001b[39;00m ElementClickInterceptedException:\n\u001b[1;32m     11\u001b[0m     \u001b[38;5;28mprint\u001b[39m(\u001b[38;5;124m\"\u001b[39m\u001b[38;5;124mL\u001b[39m\u001b[38;5;124m'\u001b[39m\u001b[38;5;124mélément est cliqué par un autre élément, attendez quelques secondes et réessayez...\u001b[39m\u001b[38;5;124m\"\u001b[39m)\n",
      "File \u001b[0;32m~/Bureau/projet_stage/scrapping/env/lib/python3.10/site-packages/selenium/webdriver/remote/webelement.py:94\u001b[0m, in \u001b[0;36mWebElement.click\u001b[0;34m(self)\u001b[0m\n\u001b[1;32m     92\u001b[0m \u001b[38;5;28;01mdef\u001b[39;00m \u001b[38;5;21mclick\u001b[39m(\u001b[38;5;28mself\u001b[39m) \u001b[38;5;241m-\u001b[39m\u001b[38;5;241m>\u001b[39m \u001b[38;5;28;01mNone\u001b[39;00m:\n\u001b[1;32m     93\u001b[0m \u001b[38;5;250m    \u001b[39m\u001b[38;5;124;03m\"\"\"Clicks the element.\"\"\"\u001b[39;00m\n\u001b[0;32m---> 94\u001b[0m     \u001b[38;5;28;43mself\u001b[39;49m\u001b[38;5;241;43m.\u001b[39;49m\u001b[43m_execute\u001b[49m\u001b[43m(\u001b[49m\u001b[43mCommand\u001b[49m\u001b[38;5;241;43m.\u001b[39;49m\u001b[43mCLICK_ELEMENT\u001b[49m\u001b[43m)\u001b[49m\n",
      "File \u001b[0;32m~/Bureau/projet_stage/scrapping/env/lib/python3.10/site-packages/selenium/webdriver/remote/webelement.py:395\u001b[0m, in \u001b[0;36mWebElement._execute\u001b[0;34m(self, command, params)\u001b[0m\n\u001b[1;32m    393\u001b[0m     params \u001b[38;5;241m=\u001b[39m {}\n\u001b[1;32m    394\u001b[0m params[\u001b[38;5;124m\"\u001b[39m\u001b[38;5;124mid\u001b[39m\u001b[38;5;124m\"\u001b[39m] \u001b[38;5;241m=\u001b[39m \u001b[38;5;28mself\u001b[39m\u001b[38;5;241m.\u001b[39m_id\n\u001b[0;32m--> 395\u001b[0m \u001b[38;5;28;01mreturn\u001b[39;00m \u001b[38;5;28;43mself\u001b[39;49m\u001b[38;5;241;43m.\u001b[39;49m\u001b[43m_parent\u001b[49m\u001b[38;5;241;43m.\u001b[39;49m\u001b[43mexecute\u001b[49m\u001b[43m(\u001b[49m\u001b[43mcommand\u001b[49m\u001b[43m,\u001b[49m\u001b[43m \u001b[49m\u001b[43mparams\u001b[49m\u001b[43m)\u001b[49m\n",
      "File \u001b[0;32m~/Bureau/projet_stage/scrapping/env/lib/python3.10/site-packages/selenium/webdriver/remote/webdriver.py:347\u001b[0m, in \u001b[0;36mWebDriver.execute\u001b[0;34m(self, driver_command, params)\u001b[0m\n\u001b[1;32m    345\u001b[0m response \u001b[38;5;241m=\u001b[39m \u001b[38;5;28mself\u001b[39m\u001b[38;5;241m.\u001b[39mcommand_executor\u001b[38;5;241m.\u001b[39mexecute(driver_command, params)\n\u001b[1;32m    346\u001b[0m \u001b[38;5;28;01mif\u001b[39;00m response:\n\u001b[0;32m--> 347\u001b[0m     \u001b[38;5;28;43mself\u001b[39;49m\u001b[38;5;241;43m.\u001b[39;49m\u001b[43merror_handler\u001b[49m\u001b[38;5;241;43m.\u001b[39;49m\u001b[43mcheck_response\u001b[49m\u001b[43m(\u001b[49m\u001b[43mresponse\u001b[49m\u001b[43m)\u001b[49m\n\u001b[1;32m    348\u001b[0m     response[\u001b[38;5;124m\"\u001b[39m\u001b[38;5;124mvalue\u001b[39m\u001b[38;5;124m\"\u001b[39m] \u001b[38;5;241m=\u001b[39m \u001b[38;5;28mself\u001b[39m\u001b[38;5;241m.\u001b[39m_unwrap_value(response\u001b[38;5;241m.\u001b[39mget(\u001b[38;5;124m\"\u001b[39m\u001b[38;5;124mvalue\u001b[39m\u001b[38;5;124m\"\u001b[39m, \u001b[38;5;28;01mNone\u001b[39;00m))\n\u001b[1;32m    349\u001b[0m     \u001b[38;5;28;01mreturn\u001b[39;00m response\n",
      "File \u001b[0;32m~/Bureau/projet_stage/scrapping/env/lib/python3.10/site-packages/selenium/webdriver/remote/errorhandler.py:229\u001b[0m, in \u001b[0;36mErrorHandler.check_response\u001b[0;34m(self, response)\u001b[0m\n\u001b[1;32m    227\u001b[0m         alert_text \u001b[38;5;241m=\u001b[39m value[\u001b[38;5;124m\"\u001b[39m\u001b[38;5;124malert\u001b[39m\u001b[38;5;124m\"\u001b[39m]\u001b[38;5;241m.\u001b[39mget(\u001b[38;5;124m\"\u001b[39m\u001b[38;5;124mtext\u001b[39m\u001b[38;5;124m\"\u001b[39m)\n\u001b[1;32m    228\u001b[0m     \u001b[38;5;28;01mraise\u001b[39;00m exception_class(message, screen, stacktrace, alert_text)  \u001b[38;5;66;03m# type: ignore[call-arg]  # mypy is not smart enough here\u001b[39;00m\n\u001b[0;32m--> 229\u001b[0m \u001b[38;5;28;01mraise\u001b[39;00m exception_class(message, screen, stacktrace)\n",
      "\u001b[0;31mStaleElementReferenceException\u001b[0m: Message: The element reference of [object String] \"{\\\"element-6066-11e4-a52e-4f735466cecf\\\":\\\"d7d5fd85-0557-4ab2-a591-b74eb4790652\\\"}\" is stale; either the element is no longer attached to the DOM, it is not in the current frame context, or the document has been refreshed; For documentation on this error, please visit: https://www.selenium.dev/documentation/webdriver/troubleshooting/errors#stale-element-reference-exception\nStacktrace:\nWebDriverError@chrome://remote/content/shared/webdriver/Errors.jsm:188:5\nStaleElementReferenceError@chrome://remote/content/shared/webdriver/Errors.jsm:469:5\nelement.resolveElement@chrome://remote/content/marionette/element.js:691:11\nevaluate.fromJSON@chrome://remote/content/marionette/evaluate.js:262:31\nevaluate.fromJSON@chrome://remote/content/marionette/evaluate.js:270:29\nreceiveMessage@chrome://remote/content/marionette/actors/MarionetteCommandsChild.jsm:81:34\n"
     ]
    }
   ],
   "source": [
    "import time\n",
    "from selenium.common.exceptions import ElementClickInterceptedException\n",
    "\n",
    "for parfumn in parfumns:\n",
    "    \n",
    "    time.sleep(2)\n",
    "    \n",
    "    try:\n",
    "        parfumn.click()\n",
    "    except ElementClickInterceptedException:\n",
    "        print(\"L'élément est cliqué par un autre élément, attendez quelques secondes et réessayez...\")\n",
    "        time.sleep(5)  # Attendez quelques secondes avant de réessayer\n",
    "        parfumn.click()  # Réessayez de cliquer sur l'élément après l'attente\n",
    "        \n",
    "    time.sleep(3)\n",
    "        \n",
    "    balise_h1 = driver.find_element(By.XPATH, '//h1[contains(@class, \"text-center\") and contains(@class, \"medium-text-left\")]')\n",
    "    nom = balise_h1.text\n",
    "        \n",
    "    balise_small_dans_h1 = driver.find_element(By.XPATH, '//h1[contains(@class, \"text-center\") and contains(@class, \"medium-text-left\")]//small')\n",
    "    genre = balise_small_dans_h1.text\n",
    "        \n",
    "    carractere = driver.find_elements(By.XPATH, '//div[@class=\"accord-bar\"]')\n",
    "    composantes = \"\"\n",
    "    for i in carractere:\n",
    "        composantes = composantes + \" - \" + i.text\n",
    "        \n",
    "    divs_voting_small_chart_size = driver.find_elements(By.XPATH, '//div[@class=\"voting-small-chart-size\"]')\n",
    "\n",
    "    toutes_divs = []\n",
    "    for div_parent in divs_voting_small_chart_size:\n",
    "        divs_enfants = div_parent.find_elements(By.XPATH, './/div')\n",
    "        toutes_divs.extend(divs_enfants)\n",
    "            \n",
    "    liste_b = [toutes_divs[i] for i in range(len(toutes_divs)) if i % 2 != 0]\n",
    "        \n",
    "    je_l_ai = (liste_b[0].get_attribute(\"style\").split(\";\"))[3].split(\":\")[1]\n",
    "    je_l_avais =  (liste_b[1].get_attribute(\"style\").split(\";\"))[3].split(\":\")[1]\n",
    "    je_le_veux =  (liste_b[2].get_attribute(\"style\").split(\";\"))[3].split(\":\")[1]\n",
    "    j_adore =  (liste_b[3].get_attribute(\"style\").split(\";\"))[3].split(\":\")[1]\n",
    "    j_aime =  (liste_b[4].get_attribute(\"style\").split(\";\"))[3].split(\":\")[1]\n",
    "    bon =  (liste_b[5].get_attribute(\"style\").split(\";\"))[3].split(\":\")[1]\n",
    "    aime_pas =  (liste_b[6].get_attribute(\"style\").split(\";\"))[3].split(\":\")[1]\n",
    "    deteste =  (liste_b[7].get_attribute(\"style\").split(\";\"))[3].split(\":\")[1]\n",
    "    hiver =  (liste_b[8].get_attribute(\"style\").split(\";\"))[3].split(\":\")[1]\n",
    "    printemps =  (liste_b[9].get_attribute(\"style\").split(\";\"))[3].split(\":\")[1]\n",
    "    ete =  (liste_b[10].get_attribute(\"style\").split(\";\"))[3].split(\":\")[1]\n",
    "    autone =  (liste_b[11].get_attribute(\"style\").split(\";\"))[3].split(\":\")[1]\n",
    "    jour =  (liste_b[12].get_attribute(\"style\").split(\";\"))[3].split(\":\")[1]\n",
    "    nuit =  (liste_b[13].get_attribute(\"style\").split(\";\"))[3].split(\":\")[1]\n",
    "        \n",
    "    new_dat = {'nom': nom, 'genre': genre, 'composantes': composantes, 'je_l_ai': je_l_ai, \"je_l_avais\": je_l_avais, \"je_le_veux\": je_le_veux, \"j_adore\": j_adore, \n",
    "               \"j_aime\": j_aime, \"bon\": bon, \"aime_pas\": aime_pas, \"deteste\": deteste, \"hiver\": hiver, \"printemps\": printemps,\n",
    "               \"ete\": ete, \"autone\": autone, \"jour\" : jour, \"nuit\": nuit }\n",
    "    \n",
    "    df.loc[len(df)] = new_dat\n",
    "        \n",
    "    df.to_csv(\"data.csv\", index=False)\n",
    "        \n",
    "    driver.back()\n",
    "    parfumns = driver.find_elements(By.XPATH, '//div[@class=\"flex-child-auto\"]//span[@class=\"link-span\"]')\n"
   ]
  },
  {
   "cell_type": "code",
   "execution_count": null,
   "metadata": {},
   "outputs": [],
   "source": []
  }
 ],
 "metadata": {
  "kernelspec": {
   "display_name": "env",
   "language": "python",
   "name": "python3"
  },
  "language_info": {
   "codemirror_mode": {
    "name": "ipython",
    "version": 3
   },
   "file_extension": ".py",
   "mimetype": "text/x-python",
   "name": "python",
   "nbconvert_exporter": "python",
   "pygments_lexer": "ipython3",
   "version": "3.10.12"
  }
 },
 "nbformat": 4,
 "nbformat_minor": 2
}
