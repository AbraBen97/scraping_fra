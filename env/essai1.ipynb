{
 "cells": [
  {
   "cell_type": "code",
   "execution_count": 5,
   "metadata": {},
   "outputs": [],
   "source": [
    "import requests\n",
    "import time\n",
    "from bs4 import BeautifulSoup\n",
    "from selenium import webdriver \n",
    "from selenium.webdriver.common.keys import Keys\n",
    "from selenium.webdriver.common.action_chains import ActionChains\n",
    "from selenium.webdriver.common.by import By \n",
    "from selenium.webdriver.common.keys import Keys\n",
    "from selenium.webdriver.chrome.options import Options\n",
    "from selenium import webdriver\n",
    "import pandas as pd\n",
    "from selenium.common.exceptions import ElementClickInterceptedException\n"
   ]
  },
  {
   "cell_type": "code",
   "execution_count": 15,
   "metadata": {},
   "outputs": [],
   "source": [
    "\n",
    "# Configuration du WebDriver\n",
    "\n",
    "\n",
    "driver = webdriver.Firefox()\n",
    "\n",
    "# Demander au driver d'appeler la page suivantes\n",
    "driver.get(\"https://www.fragrantica.com/noses/\")\n",
    "\n",
    "parfumeurs = driver.find_elements(By.XPATH, '//div[@class=\"grid-x grid-padding-x grid-padding-y\"]//div[contains(@class, \"cell small-12 medium-4\")]//a')\n",
    "\n",
    "parfumeurs[27].click()\n",
    "#driver.execute_script(\"window.scrollBy(0, 15500);\") \n",
    "\n",
    "\n",
    "columns = [\n",
    "    'nom', 'genre', 'composantes', 'je_l_ai', \"je_l_avais\", \"je_le_veux\", \"j_adore\", \"j_aime\", \"bon\", \"aime_pas\", \"deteste\", \"hiver\",\"printemps\",\n",
    "    \"ete\", \"autone\", \"jour\", \"nuit\"\n",
    "]\n",
    "\n",
    "df = pd.DataFrame(columns=columns)"
   ]
  },
  {
   "cell_type": "code",
   "execution_count": 28,
   "metadata": {},
   "outputs": [],
   "source": [
    "parfums = driver.find_elements(By.XPATH, '//div[@class=\"grid-x grid-margin-x grid-margin-y\"]//div[contains(@class, \"flex-child-auto\")]//a')\n",
    "p=p+j\n",
    "\n",
    "j=0\n",
    "  \n",
    "for i in range(p, len(parfums)):\n",
    "    \n",
    "    while True:\n",
    "        try:\n",
    "            parfums[i].click()\n",
    "            break\n",
    "        except ElementClickInterceptedException:\n",
    "            driver.execute_script(\"window.scrollBy(0, 500);\") \n",
    "            \n",
    "    \n",
    "    #parfums[i].click()\n",
    "            \n",
    "    \n",
    "    #recuperation des infos sur le parfumn\n",
    "    \n",
    "    time.sleep(2)\n",
    "\n",
    "\n",
    "\n",
    "    balise_h1 = driver.find_element(By.XPATH, '//h1[contains(@class, \"text-center\") and contains(@class, \"medium-text-left\")]')\n",
    "    nom= balise_h1.text\n",
    "    \n",
    "    \n",
    "    balise_small_dans_h1 = driver.find_element(By.XPATH, '//h1[contains(@class, \"text-center\") and contains(@class, \"medium-text-left\")]//small')\n",
    "    genre = balise_small_dans_h1.text\n",
    "    \n",
    "    \n",
    "    carractere = driver.find_elements(By.XPATH, '//div[@class=\"accord-bar\"]')\n",
    "    composantes = \"\"\n",
    "    for i in carractere:\n",
    "        composantes = composantes + \" - \" + i.text\n",
    "    \n",
    "    \n",
    "    divs_voting_small_chart_size = driver.find_elements(By.XPATH, '//div[@class=\"voting-small-chart-size\"]')\n",
    "\n",
    "    # Liste pour stocker toutes les balises <div> trouvées\n",
    "    toutes_divs = []\n",
    "\n",
    "    # Boucle pour récupérer toutes les balises <div> de chaque parent\n",
    "    for div_parent in divs_voting_small_chart_size:\n",
    "        divs_enfants = div_parent.find_elements(By.XPATH, './/div')\n",
    "        toutes_divs.extend(divs_enfants)\n",
    "        \n",
    "    liste_b = [toutes_divs[i] for i in range(len(toutes_divs)) if i % 2 != 0]\n",
    "    \n",
    "    je_l_ai = (liste_b[0].get_attribute(\"style\").split(\";\"))[3].split(\":\")[1]\n",
    "    je_l_avais =  (liste_b[1].get_attribute(\"style\").split(\";\"))[3].split(\":\")[1]\n",
    "    je_le_veux =  (liste_b[2].get_attribute(\"style\").split(\";\"))[3].split(\":\")[1]\n",
    "    j_adore =  (liste_b[3].get_attribute(\"style\").split(\";\"))[3].split(\":\")[1]\n",
    "    j_aime =  (liste_b[4].get_attribute(\"style\").split(\";\"))[3].split(\":\")[1]\n",
    "    bon =  (liste_b[5].get_attribute(\"style\").split(\";\"))[3].split(\":\")[1]\n",
    "    aime_pas =  (liste_b[6].get_attribute(\"style\").split(\";\"))[3].split(\":\")[1]\n",
    "    deteste =  (liste_b[7].get_attribute(\"style\").split(\";\"))[3].split(\":\")[1]\n",
    "    hiver =  (liste_b[8].get_attribute(\"style\").split(\";\"))[3].split(\":\")[1]\n",
    "    printemps =  (liste_b[9].get_attribute(\"style\").split(\";\"))[3].split(\":\")[1]\n",
    "    ete =  (liste_b[10].get_attribute(\"style\").split(\";\"))[3].split(\":\")[1]\n",
    "    autone =  (liste_b[11].get_attribute(\"style\").split(\";\"))[3].split(\":\")[1]\n",
    "    jour =  (liste_b[12].get_attribute(\"style\").split(\";\"))[3].split(\":\")[1]\n",
    "    nuit =  (liste_b[13].get_attribute(\"style\").split(\";\"))[3].split(\":\")[1]\n",
    "    \n",
    "    \n",
    "    new_dat = {'nom':nom, 'genre':genre, 'composantes':composantes, 'je_l_ai': je_l_ai, \"je_l_avais\": je_l_avais, \"je_le_veux\":je_le_veux, \"j_adore\":j_adore, \n",
    "                   \"j_aime\": j_aime, \"bon\": bon, \"aime_pas\": aime_pas, \"deteste\": deteste, \"hiver\": hiver,\"printemps\": printemps,\n",
    "                    \"ete\": ete, \"autone\": autone, \"jour\" :jour, \"nuit\":nuit }\n",
    "    \n",
    "    \n",
    "    df.loc[len(df)] = new_dat\n",
    "    time.sleep(2)    \n",
    "    df.to_csv(\"data1.csv\", index=False) \n",
    "        \n",
    "    j+=1\n",
    "        \n",
    "        \n",
    "    driver.back()\n",
    "    #time.sleep(5)\n",
    "    #driver.execute_script(\"window.scrollBy(0, 10500);\") \n",
    "    #time.sleep(1)\n",
    "    #driver.execute_script(\"window.scrollBy(0, 1500);\") \n",
    "    #if j%6==0:\n",
    "    #    driver.execute_script(\"window.scrollBy(0, 500);\") \n",
    "        \n",
    "    time.sleep(3)\n",
    "    k=j\n",
    "    parfums = driver.find_elements(By.XPATH, '//div[@class=\"grid-x grid-margin-x grid-margin-y\"]//div[contains(@class, \"flex-child-auto\")]//a')"
   ]
  },
  {
   "cell_type": "code",
   "execution_count": 26,
   "metadata": {},
   "outputs": [],
   "source": [
    "j =2"
   ]
  },
  {
   "cell_type": "code",
   "execution_count": 19,
   "metadata": {},
   "outputs": [
    {
     "data": {
      "text/plain": [
       "7"
      ]
     },
     "execution_count": 19,
     "metadata": {},
     "output_type": "execute_result"
    }
   ],
   "source": [
    "p"
   ]
  },
  {
   "cell_type": "code",
   "execution_count": 21,
   "metadata": {},
   "outputs": [],
   "source": [
    "p=j=0"
   ]
  }
 ],
 "metadata": {
  "kernelspec": {
   "display_name": "env",
   "language": "python",
   "name": "python3"
  },
  "language_info": {
   "codemirror_mode": {
    "name": "ipython",
    "version": 3
   },
   "file_extension": ".py",
   "mimetype": "text/x-python",
   "name": "python",
   "nbconvert_exporter": "python",
   "pygments_lexer": "ipython3",
   "version": "3.10.12"
  }
 },
 "nbformat": 4,
 "nbformat_minor": 2
}
